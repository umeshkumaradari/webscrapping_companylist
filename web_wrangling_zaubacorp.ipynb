{
 "cells": [
  {
   "cell_type": "code",
   "execution_count": null,
   "metadata": {},
   "outputs": [],
   "source": [
    "import csv\n",
    "import requests\n",
    "from bs4 import BeautifulSoup"
   ]
  },
  {
   "cell_type": "code",
   "execution_count": null,
   "metadata": {
    "scrolled": true
   },
   "outputs": [],
   "source": [
    "page = 1\n",
    "all_data = []\n",
    "while True:\n",
    "    soup = BeautifulSoup(requests.get(url.format(page)).content, 'html.parser')\n",
    "\n",
    "    rows = soup.select('#table tr:has(td)')\n",
    "\n",
    "    if not rows:\n",
    "        break\n",
    "\n",
    "    for tr in rows:\n",
    "        all_data.append([td.get_text(strip=True) for td in tr.select('td')])\n",
    "        all_data[-1].insert(2, tr.a['href'])\n",
    "        print(all_data[-1])\n",
    "\n",
    "    page += 1\n",
    "    if page > 13333:\n",
    "        break\n",
    "with open('data(1-13333).csv', 'w', newline='') as csvfile:\n",
    "    csv_writer = csv.writer(csvfile, delimiter=',', quotechar='\"', quoting=csv.QUOTE_MINIMAL)\n",
    "    csv_writer.writerow([\"CIN\", \"Company Name\", \"Company Link\", \"Roc\", \"Status\"])\n",
    "    for row in all_data:\n",
    "        csv_writer.writerow(row)\n",
    "        \n",
    "print('compiled')"
   ]
  }
 ],
 "metadata": {
  "kernelspec": {
   "display_name": "Python 3",
   "language": "python",
   "name": "python3"
  },
  "language_info": {
   "codemirror_mode": {
    "name": "ipython",
    "version": 3
   },
   "file_extension": ".py",
   "mimetype": "text/x-python",
   "name": "python",
   "nbconvert_exporter": "python",
   "pygments_lexer": "ipython3",
   "version": "3.8.5"
  }
 },
 "nbformat": 4,
 "nbformat_minor": 4
}
